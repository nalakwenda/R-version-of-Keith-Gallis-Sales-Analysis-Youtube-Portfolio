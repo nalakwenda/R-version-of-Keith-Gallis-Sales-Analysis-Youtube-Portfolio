{
 "cells": [
  {
   "cell_type": "markdown",
   "id": "d46c353e",
   "metadata": {},
   "source": [
    "#  Sales Analysis with R\n"
   ]
  },
  {
   "cell_type": "markdown",
   "id": "b8f75ea3",
   "metadata": {},
   "source": [
    "Import necessary libraries\n"
   ]
  },
  {
   "cell_type": "code",
   "execution_count": 1,
   "id": "efeb1feb",
   "metadata": {},
   "outputs": [
    {
     "name": "stderr",
     "output_type": "stream",
     "text": [
      "Warning message:\n",
      "\"package 'ggplot2' was built under R version 4.1.2\"\n",
      "Warning message:\n",
      "\"package 'dplyr' was built under R version 4.1.2\"\n",
      "\n",
      "Attaching package: 'dplyr'\n",
      "\n",
      "\n",
      "The following objects are masked from 'package:stats':\n",
      "\n",
      "    filter, lag\n",
      "\n",
      "\n",
      "The following objects are masked from 'package:base':\n",
      "\n",
      "    intersect, setdiff, setequal, union\n",
      "\n",
      "\n",
      "Warning message:\n",
      "\"package 'readr' was built under R version 4.1.2\"\n",
      "Warning message:\n",
      "\"package 'lubridate' was built under R version 4.1.2\"\n",
      "\n",
      "Attaching package: 'lubridate'\n",
      "\n",
      "\n",
      "The following objects are masked from 'package:base':\n",
      "\n",
      "    date, intersect, setdiff, union\n",
      "\n",
      "\n"
     ]
    }
   ],
   "source": [
    "library(ggplot2)\n",
    "library(dplyr)\n",
    "library(readr) \n",
    "library(lubridate)"
   ]
  },
  {
   "cell_type": "markdown",
   "id": "4e80ca24",
   "metadata": {},
   "source": [
    "Merge data from each month into one CSV"
   ]
  },
  {
   "cell_type": "code",
   "execution_count": 2,
   "id": "e0e583e1",
   "metadata": {},
   "outputs": [
    {
     "name": "stderr",
     "output_type": "stream",
     "text": [
      "\u001b[1mRows: \u001b[22m\u001b[34m18383\u001b[39m \u001b[1mColumns: \u001b[22m\u001b[34m6\u001b[39m\n",
      "\u001b[36m--\u001b[39m \u001b[1mColumn specification\u001b[22m \u001b[36m------------------------------------------------------------------------------------------------\u001b[39m\n",
      "\u001b[1mDelimiter:\u001b[22m \",\"\n",
      "\u001b[31mchr\u001b[39m (6): Order ID, Product, Quantity Ordered, Price Each, Order Date, Purcha...\n",
      "\n",
      "\u001b[36mi\u001b[39m Use \u001b[30m\u001b[47m\u001b[30m\u001b[47m`spec()`\u001b[47m\u001b[30m\u001b[49m\u001b[39m to retrieve the full column specification for this data.\n",
      "\u001b[36mi\u001b[39m Specify the column types or set \u001b[30m\u001b[47m\u001b[30m\u001b[47m`show_col_types = FALSE`\u001b[47m\u001b[30m\u001b[49m\u001b[39m to quiet this message.\n",
      "\u001b[1mRows: \u001b[22m\u001b[34m12011\u001b[39m \u001b[1mColumns: \u001b[22m\u001b[34m6\u001b[39m\n",
      "\u001b[36m--\u001b[39m \u001b[1mColumn specification\u001b[22m \u001b[36m------------------------------------------------------------------------------------------------\u001b[39m\n",
      "\u001b[1mDelimiter:\u001b[22m \",\"\n",
      "\u001b[31mchr\u001b[39m (6): Order ID, Product, Quantity Ordered, Price Each, Order Date, Purcha...\n",
      "\n",
      "\u001b[36mi\u001b[39m Use \u001b[30m\u001b[47m\u001b[30m\u001b[47m`spec()`\u001b[47m\u001b[30m\u001b[49m\u001b[39m to retrieve the full column specification for this data.\n",
      "\u001b[36mi\u001b[39m Specify the column types or set \u001b[30m\u001b[47m\u001b[30m\u001b[47m`show_col_types = FALSE`\u001b[47m\u001b[30m\u001b[49m\u001b[39m to quiet this message.\n",
      "\u001b[1mRows: \u001b[22m\u001b[34m25117\u001b[39m \u001b[1mColumns: \u001b[22m\u001b[34m6\u001b[39m\n",
      "\u001b[36m--\u001b[39m \u001b[1mColumn specification\u001b[22m \u001b[36m------------------------------------------------------------------------------------------------\u001b[39m\n",
      "\u001b[1mDelimiter:\u001b[22m \",\"\n",
      "\u001b[31mchr\u001b[39m (6): Order ID, Product, Quantity Ordered, Price Each, Order Date, Purcha...\n",
      "\n",
      "\u001b[36mi\u001b[39m Use \u001b[30m\u001b[47m\u001b[30m\u001b[47m`spec()`\u001b[47m\u001b[30m\u001b[49m\u001b[39m to retrieve the full column specification for this data.\n",
      "\u001b[36mi\u001b[39m Specify the column types or set \u001b[30m\u001b[47m\u001b[30m\u001b[47m`show_col_types = FALSE`\u001b[47m\u001b[30m\u001b[49m\u001b[39m to quiet this message.\n",
      "\u001b[1mRows: \u001b[22m\u001b[34m12036\u001b[39m \u001b[1mColumns: \u001b[22m\u001b[34m6\u001b[39m\n",
      "\u001b[36m--\u001b[39m \u001b[1mColumn specification\u001b[22m \u001b[36m------------------------------------------------------------------------------------------------\u001b[39m\n",
      "\u001b[1mDelimiter:\u001b[22m \",\"\n",
      "\u001b[31mchr\u001b[39m (6): Order ID, Product, Quantity Ordered, Price Each, Order Date, Purcha...\n",
      "\n",
      "\u001b[36mi\u001b[39m Use \u001b[30m\u001b[47m\u001b[30m\u001b[47m`spec()`\u001b[47m\u001b[30m\u001b[49m\u001b[39m to retrieve the full column specification for this data.\n",
      "\u001b[36mi\u001b[39m Specify the column types or set \u001b[30m\u001b[47m\u001b[30m\u001b[47m`show_col_types = FALSE`\u001b[47m\u001b[30m\u001b[49m\u001b[39m to quiet this message.\n",
      "\u001b[1mRows: \u001b[22m\u001b[34m9723\u001b[39m \u001b[1mColumns: \u001b[22m\u001b[34m6\u001b[39m\n",
      "\u001b[36m--\u001b[39m \u001b[1mColumn specification\u001b[22m \u001b[36m------------------------------------------------------------------------------------------------\u001b[39m\n",
      "\u001b[1mDelimiter:\u001b[22m \",\"\n",
      "\u001b[31mchr\u001b[39m (6): Order ID, Product, Quantity Ordered, Price Each, Order Date, Purcha...\n",
      "\n",
      "\u001b[36mi\u001b[39m Use \u001b[30m\u001b[47m\u001b[30m\u001b[47m`spec()`\u001b[47m\u001b[30m\u001b[49m\u001b[39m to retrieve the full column specification for this data.\n",
      "\u001b[36mi\u001b[39m Specify the column types or set \u001b[30m\u001b[47m\u001b[30m\u001b[47m`show_col_types = FALSE`\u001b[47m\u001b[30m\u001b[49m\u001b[39m to quiet this message.\n",
      "\u001b[1mRows: \u001b[22m\u001b[34m14371\u001b[39m \u001b[1mColumns: \u001b[22m\u001b[34m6\u001b[39m\n",
      "\u001b[36m--\u001b[39m \u001b[1mColumn specification\u001b[22m \u001b[36m------------------------------------------------------------------------------------------------\u001b[39m\n",
      "\u001b[1mDelimiter:\u001b[22m \",\"\n",
      "\u001b[31mchr\u001b[39m (6): Order ID, Product, Quantity Ordered, Price Each, Order Date, Purcha...\n",
      "\n",
      "\u001b[36mi\u001b[39m Use \u001b[30m\u001b[47m\u001b[30m\u001b[47m`spec()`\u001b[47m\u001b[30m\u001b[49m\u001b[39m to retrieve the full column specification for this data.\n",
      "\u001b[36mi\u001b[39m Specify the column types or set \u001b[30m\u001b[47m\u001b[30m\u001b[47m`show_col_types = FALSE`\u001b[47m\u001b[30m\u001b[49m\u001b[39m to quiet this message.\n",
      "\u001b[1mRows: \u001b[22m\u001b[34m13622\u001b[39m \u001b[1mColumns: \u001b[22m\u001b[34m6\u001b[39m\n",
      "\u001b[36m--\u001b[39m \u001b[1mColumn specification\u001b[22m \u001b[36m------------------------------------------------------------------------------------------------\u001b[39m\n",
      "\u001b[1mDelimiter:\u001b[22m \",\"\n",
      "\u001b[31mchr\u001b[39m (6): Order ID, Product, Quantity Ordered, Price Each, Order Date, Purcha...\n",
      "\n",
      "\u001b[36mi\u001b[39m Use \u001b[30m\u001b[47m\u001b[30m\u001b[47m`spec()`\u001b[47m\u001b[30m\u001b[49m\u001b[39m to retrieve the full column specification for this data.\n",
      "\u001b[36mi\u001b[39m Specify the column types or set \u001b[30m\u001b[47m\u001b[30m\u001b[47m`show_col_types = FALSE`\u001b[47m\u001b[30m\u001b[49m\u001b[39m to quiet this message.\n",
      "\u001b[1mRows: \u001b[22m\u001b[34m15226\u001b[39m \u001b[1mColumns: \u001b[22m\u001b[34m6\u001b[39m\n",
      "\u001b[36m--\u001b[39m \u001b[1mColumn specification\u001b[22m \u001b[36m------------------------------------------------------------------------------------------------\u001b[39m\n",
      "\u001b[1mDelimiter:\u001b[22m \",\"\n",
      "\u001b[31mchr\u001b[39m (6): Order ID, Product, Quantity Ordered, Price Each, Order Date, Purcha...\n",
      "\n",
      "\u001b[36mi\u001b[39m Use \u001b[30m\u001b[47m\u001b[30m\u001b[47m`spec()`\u001b[47m\u001b[30m\u001b[49m\u001b[39m to retrieve the full column specification for this data.\n",
      "\u001b[36mi\u001b[39m Specify the column types or set \u001b[30m\u001b[47m\u001b[30m\u001b[47m`show_col_types = FALSE`\u001b[47m\u001b[30m\u001b[49m\u001b[39m to quiet this message.\n",
      "\u001b[1mRows: \u001b[22m\u001b[34m16635\u001b[39m \u001b[1mColumns: \u001b[22m\u001b[34m6\u001b[39m\n",
      "\u001b[36m--\u001b[39m \u001b[1mColumn specification\u001b[22m \u001b[36m------------------------------------------------------------------------------------------------\u001b[39m\n",
      "\u001b[1mDelimiter:\u001b[22m \",\"\n",
      "\u001b[31mchr\u001b[39m (6): Order ID, Product, Quantity Ordered, Price Each, Order Date, Purcha...\n",
      "\n",
      "\u001b[36mi\u001b[39m Use \u001b[30m\u001b[47m\u001b[30m\u001b[47m`spec()`\u001b[47m\u001b[30m\u001b[49m\u001b[39m to retrieve the full column specification for this data.\n",
      "\u001b[36mi\u001b[39m Specify the column types or set \u001b[30m\u001b[47m\u001b[30m\u001b[47m`show_col_types = FALSE`\u001b[47m\u001b[30m\u001b[49m\u001b[39m to quiet this message.\n",
      "\u001b[1mRows: \u001b[22m\u001b[34m17661\u001b[39m \u001b[1mColumns: \u001b[22m\u001b[34m6\u001b[39m\n",
      "\u001b[36m--\u001b[39m \u001b[1mColumn specification\u001b[22m \u001b[36m------------------------------------------------------------------------------------------------\u001b[39m\n",
      "\u001b[1mDelimiter:\u001b[22m \",\"\n",
      "\u001b[31mchr\u001b[39m (6): Order ID, Product, Quantity Ordered, Price Each, Order Date, Purcha...\n",
      "\n",
      "\u001b[36mi\u001b[39m Use \u001b[30m\u001b[47m\u001b[30m\u001b[47m`spec()`\u001b[47m\u001b[30m\u001b[49m\u001b[39m to retrieve the full column specification for this data.\n",
      "\u001b[36mi\u001b[39m Specify the column types or set \u001b[30m\u001b[47m\u001b[30m\u001b[47m`show_col_types = FALSE`\u001b[47m\u001b[30m\u001b[49m\u001b[39m to quiet this message.\n",
      "\u001b[1mRows: \u001b[22m\u001b[34m20379\u001b[39m \u001b[1mColumns: \u001b[22m\u001b[34m6\u001b[39m\n",
      "\u001b[36m--\u001b[39m \u001b[1mColumn specification\u001b[22m \u001b[36m------------------------------------------------------------------------------------------------\u001b[39m\n",
      "\u001b[1mDelimiter:\u001b[22m \",\"\n",
      "\u001b[31mchr\u001b[39m (6): Order ID, Product, Quantity Ordered, Price Each, Order Date, Purcha...\n",
      "\n",
      "\u001b[36mi\u001b[39m Use \u001b[30m\u001b[47m\u001b[30m\u001b[47m`spec()`\u001b[47m\u001b[30m\u001b[49m\u001b[39m to retrieve the full column specification for this data.\n",
      "\u001b[36mi\u001b[39m Specify the column types or set \u001b[30m\u001b[47m\u001b[30m\u001b[47m`show_col_types = FALSE`\u001b[47m\u001b[30m\u001b[49m\u001b[39m to quiet this message.\n",
      "\u001b[1mRows: \u001b[22m\u001b[34m11686\u001b[39m \u001b[1mColumns: \u001b[22m\u001b[34m6\u001b[39m\n",
      "\u001b[36m--\u001b[39m \u001b[1mColumn specification\u001b[22m \u001b[36m------------------------------------------------------------------------------------------------\u001b[39m\n",
      "\u001b[1mDelimiter:\u001b[22m \",\"\n",
      "\u001b[31mchr\u001b[39m (6): Order ID, Product, Quantity Ordered, Price Each, Order Date, Purcha...\n",
      "\n",
      "\u001b[36mi\u001b[39m Use \u001b[30m\u001b[47m\u001b[30m\u001b[47m`spec()`\u001b[47m\u001b[30m\u001b[49m\u001b[39m to retrieve the full column specification for this data.\n",
      "\u001b[36mi\u001b[39m Specify the column types or set \u001b[30m\u001b[47m\u001b[30m\u001b[47m`show_col_types = FALSE`\u001b[47m\u001b[30m\u001b[49m\u001b[39m to quiet this message.\n"
     ]
    }
   ],
   "source": [
    "\n",
    "all_data <- list.files(path=\"./Sales_Data\", full.names = TRUE) %>% \n",
    "  lapply(read_csv) %>% bind_rows\n",
    "  \n",
    "\n"
   ]
  },
  {
   "cell_type": "code",
   "execution_count": 3,
   "id": "600f346c",
   "metadata": {},
   "outputs": [],
   "source": [
    "write_csv(all_data, 'all_data.csv')"
   ]
  },
  {
   "cell_type": "code",
   "execution_count": 4,
   "id": "fc4abb19",
   "metadata": {},
   "outputs": [
    {
     "data": {
      "text/plain": [
       "cols(\n",
       "  `Order ID` = \u001b[31mcol_character()\u001b[39m,\n",
       "  Product = \u001b[31mcol_character()\u001b[39m,\n",
       "  `Quantity Ordered` = \u001b[31mcol_character()\u001b[39m,\n",
       "  `Price Each` = \u001b[31mcol_character()\u001b[39m,\n",
       "  `Order Date` = \u001b[31mcol_character()\u001b[39m,\n",
       "  `Purchase Address` = \u001b[31mcol_character()\u001b[39m\n",
       ")"
      ]
     },
     "metadata": {},
     "output_type": "display_data"
    }
   ],
   "source": [
    "spec(all_data)"
   ]
  },
  {
   "cell_type": "code",
   "execution_count": 5,
   "id": "0ef68e46",
   "metadata": {},
   "outputs": [
    {
     "data": {
      "text/plain": [
       "cols(\n",
       "  `Order ID` = \u001b[31mcol_character()\u001b[39m,\n",
       "  Product = \u001b[31mcol_character()\u001b[39m,\n",
       "  `Quantity Ordered` = \u001b[31mcol_character()\u001b[39m,\n",
       "  `Price Each` = \u001b[31mcol_character()\u001b[39m,\n",
       "  `Order Date` = \u001b[31mcol_character()\u001b[39m,\n",
       "  `Purchase Address` = \u001b[31mcol_character()\u001b[39m\n",
       ")"
      ]
     },
     "metadata": {},
     "output_type": "display_data"
    }
   ],
   "source": [
    "spec(all_data)"
   ]
  },
  {
   "cell_type": "code",
   "execution_count": 6,
   "id": "e16b2144",
   "metadata": {},
   "outputs": [
    {
     "name": "stderr",
     "output_type": "stream",
     "text": [
      "Warning message:\n",
      "\"One or more parsing issues, see `problems()` for details\"\n",
      "\u001b[1mRows: \u001b[22m\u001b[34m186850\u001b[39m \u001b[1mColumns: \u001b[22m\u001b[34m6\u001b[39m\n",
      "\u001b[36m--\u001b[39m \u001b[1mColumn specification\u001b[22m \u001b[36m------------------------------------------------------------------------------------------------\u001b[39m\n",
      "\u001b[1mDelimiter:\u001b[22m \",\"\n",
      "\u001b[31mchr\u001b[39m (3): Product, Order Date, Purchase Address\n",
      "\u001b[32mdbl\u001b[39m (3): Order ID, Quantity Ordered, Price Each\n",
      "\n",
      "\u001b[36mi\u001b[39m Use \u001b[30m\u001b[47m\u001b[30m\u001b[47m`spec()`\u001b[47m\u001b[30m\u001b[49m\u001b[39m to retrieve the full column specification for this data.\n",
      "\u001b[36mi\u001b[39m Specify the column types or set \u001b[30m\u001b[47m\u001b[30m\u001b[47m`show_col_types = FALSE`\u001b[47m\u001b[30m\u001b[49m\u001b[39m to quiet this message.\n"
     ]
    }
   ],
   "source": [
    "df <- read_csv(file = 'all_data.csv')"
   ]
  },
  {
   "cell_type": "code",
   "execution_count": 7,
   "id": "9791dae1",
   "metadata": {},
   "outputs": [
    {
     "data": {
      "text/html": [
       "<table class=\"dataframe\">\n",
       "<caption>A tibble: 6 × 6</caption>\n",
       "<thead>\n",
       "\t<tr><th scope=col>Order ID</th><th scope=col>Product</th><th scope=col>Quantity Ordered</th><th scope=col>Price Each</th><th scope=col>Order Date</th><th scope=col>Purchase Address</th></tr>\n",
       "\t<tr><th scope=col>&lt;dbl&gt;</th><th scope=col>&lt;chr&gt;</th><th scope=col>&lt;dbl&gt;</th><th scope=col>&lt;dbl&gt;</th><th scope=col>&lt;chr&gt;</th><th scope=col>&lt;chr&gt;</th></tr>\n",
       "</thead>\n",
       "<tbody>\n",
       "\t<tr><td>176558</td><td>USB-C Charging Cable      </td><td> 2</td><td> 11.95</td><td>04/19/19 08:46</td><td>917 1st St, Dallas, TX 75001        </td></tr>\n",
       "\t<tr><td>    NA</td><td>NA                        </td><td>NA</td><td>    NA</td><td>NA            </td><td>NA                                  </td></tr>\n",
       "\t<tr><td>176559</td><td>Bose SoundSport Headphones</td><td> 1</td><td> 99.99</td><td>04/07/19 22:30</td><td>682 Chestnut St, Boston, MA 02215   </td></tr>\n",
       "\t<tr><td>176560</td><td>Google Phone              </td><td> 1</td><td>600.00</td><td>04/12/19 14:38</td><td>669 Spruce St, Los Angeles, CA 90001</td></tr>\n",
       "\t<tr><td>176560</td><td>Wired Headphones          </td><td> 1</td><td> 11.99</td><td>04/12/19 14:38</td><td>669 Spruce St, Los Angeles, CA 90001</td></tr>\n",
       "\t<tr><td>176561</td><td>Wired Headphones          </td><td> 1</td><td> 11.99</td><td>04/30/19 09:27</td><td>333 8th St, Los Angeles, CA 90001   </td></tr>\n",
       "</tbody>\n",
       "</table>\n"
      ],
      "text/latex": [
       "A tibble: 6 × 6\n",
       "\\begin{tabular}{llllll}\n",
       " Order ID & Product & Quantity Ordered & Price Each & Order Date & Purchase Address\\\\\n",
       " <dbl> & <chr> & <dbl> & <dbl> & <chr> & <chr>\\\\\n",
       "\\hline\n",
       "\t 176558 & USB-C Charging Cable       &  2 &  11.95 & 04/19/19 08:46 & 917 1st St, Dallas, TX 75001        \\\\\n",
       "\t     NA & NA                         & NA &     NA & NA             & NA                                  \\\\\n",
       "\t 176559 & Bose SoundSport Headphones &  1 &  99.99 & 04/07/19 22:30 & 682 Chestnut St, Boston, MA 02215   \\\\\n",
       "\t 176560 & Google Phone               &  1 & 600.00 & 04/12/19 14:38 & 669 Spruce St, Los Angeles, CA 90001\\\\\n",
       "\t 176560 & Wired Headphones           &  1 &  11.99 & 04/12/19 14:38 & 669 Spruce St, Los Angeles, CA 90001\\\\\n",
       "\t 176561 & Wired Headphones           &  1 &  11.99 & 04/30/19 09:27 & 333 8th St, Los Angeles, CA 90001   \\\\\n",
       "\\end{tabular}\n"
      ],
      "text/markdown": [
       "\n",
       "A tibble: 6 × 6\n",
       "\n",
       "| Order ID &lt;dbl&gt; | Product &lt;chr&gt; | Quantity Ordered &lt;dbl&gt; | Price Each &lt;dbl&gt; | Order Date &lt;chr&gt; | Purchase Address &lt;chr&gt; |\n",
       "|---|---|---|---|---|---|\n",
       "| 176558 | USB-C Charging Cable       |  2 |  11.95 | 04/19/19 08:46 | 917 1st St, Dallas, TX 75001         |\n",
       "|     NA | NA                         | NA |     NA | NA             | NA                                   |\n",
       "| 176559 | Bose SoundSport Headphones |  1 |  99.99 | 04/07/19 22:30 | 682 Chestnut St, Boston, MA 02215    |\n",
       "| 176560 | Google Phone               |  1 | 600.00 | 04/12/19 14:38 | 669 Spruce St, Los Angeles, CA 90001 |\n",
       "| 176560 | Wired Headphones           |  1 |  11.99 | 04/12/19 14:38 | 669 Spruce St, Los Angeles, CA 90001 |\n",
       "| 176561 | Wired Headphones           |  1 |  11.99 | 04/30/19 09:27 | 333 8th St, Los Angeles, CA 90001    |\n",
       "\n"
      ],
      "text/plain": [
       "  Order ID Product                    Quantity Ordered Price Each\n",
       "1 176558   USB-C Charging Cable        2                11.95    \n",
       "2     NA   NA                         NA                   NA    \n",
       "3 176559   Bose SoundSport Headphones  1                99.99    \n",
       "4 176560   Google Phone                1               600.00    \n",
       "5 176560   Wired Headphones            1                11.99    \n",
       "6 176561   Wired Headphones            1                11.99    \n",
       "  Order Date     Purchase Address                    \n",
       "1 04/19/19 08:46 917 1st St, Dallas, TX 75001        \n",
       "2 NA             NA                                  \n",
       "3 04/07/19 22:30 682 Chestnut St, Boston, MA 02215   \n",
       "4 04/12/19 14:38 669 Spruce St, Los Angeles, CA 90001\n",
       "5 04/12/19 14:38 669 Spruce St, Los Angeles, CA 90001\n",
       "6 04/30/19 09:27 333 8th St, Los Angeles, CA 90001   "
      ]
     },
     "metadata": {},
     "output_type": "display_data"
    }
   ],
   "source": [
    "head(df)\n"
   ]
  },
  {
   "cell_type": "markdown",
   "id": "6b2c5424",
   "metadata": {},
   "source": [
    "Clean up the data"
   ]
  },
  {
   "cell_type": "code",
   "execution_count": 8,
   "id": "9d45af86",
   "metadata": {},
   "outputs": [
    {
     "data": {
      "text/html": [
       "<table class=\"dataframe\">\n",
       "<caption>A tibble: 6 × 6</caption>\n",
       "<thead>\n",
       "\t<tr><th scope=col>Order ID</th><th scope=col>Product</th><th scope=col>Quantity Ordered</th><th scope=col>Price Each</th><th scope=col>Order Date</th><th scope=col>Purchase Address</th></tr>\n",
       "\t<tr><th scope=col>&lt;dbl&gt;</th><th scope=col>&lt;chr&gt;</th><th scope=col>&lt;dbl&gt;</th><th scope=col>&lt;dbl&gt;</th><th scope=col>&lt;chr&gt;</th><th scope=col>&lt;chr&gt;</th></tr>\n",
       "</thead>\n",
       "<tbody>\n",
       "\t<tr><td>NA</td><td>NA     </td><td>NA</td><td>NA</td><td>NA        </td><td>NA              </td></tr>\n",
       "\t<tr><td>NA</td><td>NA     </td><td>NA</td><td>NA</td><td>NA        </td><td>NA              </td></tr>\n",
       "\t<tr><td>NA</td><td>Product</td><td>NA</td><td>NA</td><td>Order Date</td><td>Purchase Address</td></tr>\n",
       "\t<tr><td>NA</td><td>NA     </td><td>NA</td><td>NA</td><td>NA        </td><td>NA              </td></tr>\n",
       "\t<tr><td>NA</td><td>Product</td><td>NA</td><td>NA</td><td>Order Date</td><td>Purchase Address</td></tr>\n",
       "\t<tr><td>NA</td><td>Product</td><td>NA</td><td>NA</td><td>Order Date</td><td>Purchase Address</td></tr>\n",
       "</tbody>\n",
       "</table>\n"
      ],
      "text/latex": [
       "A tibble: 6 × 6\n",
       "\\begin{tabular}{llllll}\n",
       " Order ID & Product & Quantity Ordered & Price Each & Order Date & Purchase Address\\\\\n",
       " <dbl> & <chr> & <dbl> & <dbl> & <chr> & <chr>\\\\\n",
       "\\hline\n",
       "\t NA & NA      & NA & NA & NA         & NA              \\\\\n",
       "\t NA & NA      & NA & NA & NA         & NA              \\\\\n",
       "\t NA & Product & NA & NA & Order Date & Purchase Address\\\\\n",
       "\t NA & NA      & NA & NA & NA         & NA              \\\\\n",
       "\t NA & Product & NA & NA & Order Date & Purchase Address\\\\\n",
       "\t NA & Product & NA & NA & Order Date & Purchase Address\\\\\n",
       "\\end{tabular}\n"
      ],
      "text/markdown": [
       "\n",
       "A tibble: 6 × 6\n",
       "\n",
       "| Order ID &lt;dbl&gt; | Product &lt;chr&gt; | Quantity Ordered &lt;dbl&gt; | Price Each &lt;dbl&gt; | Order Date &lt;chr&gt; | Purchase Address &lt;chr&gt; |\n",
       "|---|---|---|---|---|---|\n",
       "| NA | NA      | NA | NA | NA         | NA               |\n",
       "| NA | NA      | NA | NA | NA         | NA               |\n",
       "| NA | Product | NA | NA | Order Date | Purchase Address |\n",
       "| NA | NA      | NA | NA | NA         | NA               |\n",
       "| NA | Product | NA | NA | Order Date | Purchase Address |\n",
       "| NA | Product | NA | NA | Order Date | Purchase Address |\n",
       "\n"
      ],
      "text/plain": [
       "  Order ID Product Quantity Ordered Price Each Order Date Purchase Address\n",
       "1 NA       NA      NA               NA         NA         NA              \n",
       "2 NA       NA      NA               NA         NA         NA              \n",
       "3 NA       Product NA               NA         Order Date Purchase Address\n",
       "4 NA       NA      NA               NA         NA         NA              \n",
       "5 NA       Product NA               NA         Order Date Purchase Address\n",
       "6 NA       Product NA               NA         Order Date Purchase Address"
      ]
     },
     "metadata": {},
     "output_type": "display_data"
    }
   ],
   "source": [
    "#Find all null nan\n",
    "nan_df = df[!complete.cases(df),]\n",
    "head(nan_df)"
   ]
  },
  {
   "cell_type": "markdown",
   "id": "58963a1e",
   "metadata": {},
   "source": [
    "Get rid of null values\n"
   ]
  },
  {
   "cell_type": "code",
   "execution_count": 9,
   "id": "adc23b62",
   "metadata": {},
   "outputs": [
    {
     "data": {
      "text/html": [
       "<table class=\"dataframe\">\n",
       "<caption>A tibble: 6 × 6</caption>\n",
       "<thead>\n",
       "\t<tr><th scope=col>Order ID</th><th scope=col>Product</th><th scope=col>Quantity Ordered</th><th scope=col>Price Each</th><th scope=col>Order Date</th><th scope=col>Purchase Address</th></tr>\n",
       "\t<tr><th scope=col>&lt;dbl&gt;</th><th scope=col>&lt;chr&gt;</th><th scope=col>&lt;dbl&gt;</th><th scope=col>&lt;dbl&gt;</th><th scope=col>&lt;chr&gt;</th><th scope=col>&lt;chr&gt;</th></tr>\n",
       "</thead>\n",
       "<tbody>\n",
       "\t<tr><td>176558</td><td>USB-C Charging Cable      </td><td>2</td><td> 11.95</td><td>04/19/19 08:46</td><td>917 1st St, Dallas, TX 75001          </td></tr>\n",
       "\t<tr><td>176559</td><td>Bose SoundSport Headphones</td><td>1</td><td> 99.99</td><td>04/07/19 22:30</td><td>682 Chestnut St, Boston, MA 02215     </td></tr>\n",
       "\t<tr><td>176560</td><td>Google Phone              </td><td>1</td><td>600.00</td><td>04/12/19 14:38</td><td>669 Spruce St, Los Angeles, CA 90001  </td></tr>\n",
       "\t<tr><td>176560</td><td>Wired Headphones          </td><td>1</td><td> 11.99</td><td>04/12/19 14:38</td><td>669 Spruce St, Los Angeles, CA 90001  </td></tr>\n",
       "\t<tr><td>176561</td><td>Wired Headphones          </td><td>1</td><td> 11.99</td><td>04/30/19 09:27</td><td>333 8th St, Los Angeles, CA 90001     </td></tr>\n",
       "\t<tr><td>176562</td><td>USB-C Charging Cable      </td><td>1</td><td> 11.95</td><td>04/29/19 13:03</td><td>381 Wilson St, San Francisco, CA 94016</td></tr>\n",
       "</tbody>\n",
       "</table>\n"
      ],
      "text/latex": [
       "A tibble: 6 × 6\n",
       "\\begin{tabular}{llllll}\n",
       " Order ID & Product & Quantity Ordered & Price Each & Order Date & Purchase Address\\\\\n",
       " <dbl> & <chr> & <dbl> & <dbl> & <chr> & <chr>\\\\\n",
       "\\hline\n",
       "\t 176558 & USB-C Charging Cable       & 2 &  11.95 & 04/19/19 08:46 & 917 1st St, Dallas, TX 75001          \\\\\n",
       "\t 176559 & Bose SoundSport Headphones & 1 &  99.99 & 04/07/19 22:30 & 682 Chestnut St, Boston, MA 02215     \\\\\n",
       "\t 176560 & Google Phone               & 1 & 600.00 & 04/12/19 14:38 & 669 Spruce St, Los Angeles, CA 90001  \\\\\n",
       "\t 176560 & Wired Headphones           & 1 &  11.99 & 04/12/19 14:38 & 669 Spruce St, Los Angeles, CA 90001  \\\\\n",
       "\t 176561 & Wired Headphones           & 1 &  11.99 & 04/30/19 09:27 & 333 8th St, Los Angeles, CA 90001     \\\\\n",
       "\t 176562 & USB-C Charging Cable       & 1 &  11.95 & 04/29/19 13:03 & 381 Wilson St, San Francisco, CA 94016\\\\\n",
       "\\end{tabular}\n"
      ],
      "text/markdown": [
       "\n",
       "A tibble: 6 × 6\n",
       "\n",
       "| Order ID &lt;dbl&gt; | Product &lt;chr&gt; | Quantity Ordered &lt;dbl&gt; | Price Each &lt;dbl&gt; | Order Date &lt;chr&gt; | Purchase Address &lt;chr&gt; |\n",
       "|---|---|---|---|---|---|\n",
       "| 176558 | USB-C Charging Cable       | 2 |  11.95 | 04/19/19 08:46 | 917 1st St, Dallas, TX 75001           |\n",
       "| 176559 | Bose SoundSport Headphones | 1 |  99.99 | 04/07/19 22:30 | 682 Chestnut St, Boston, MA 02215      |\n",
       "| 176560 | Google Phone               | 1 | 600.00 | 04/12/19 14:38 | 669 Spruce St, Los Angeles, CA 90001   |\n",
       "| 176560 | Wired Headphones           | 1 |  11.99 | 04/12/19 14:38 | 669 Spruce St, Los Angeles, CA 90001   |\n",
       "| 176561 | Wired Headphones           | 1 |  11.99 | 04/30/19 09:27 | 333 8th St, Los Angeles, CA 90001      |\n",
       "| 176562 | USB-C Charging Cable       | 1 |  11.95 | 04/29/19 13:03 | 381 Wilson St, San Francisco, CA 94016 |\n",
       "\n"
      ],
      "text/plain": [
       "  Order ID Product                    Quantity Ordered Price Each\n",
       "1 176558   USB-C Charging Cable       2                 11.95    \n",
       "2 176559   Bose SoundSport Headphones 1                 99.99    \n",
       "3 176560   Google Phone               1                600.00    \n",
       "4 176560   Wired Headphones           1                 11.99    \n",
       "5 176561   Wired Headphones           1                 11.99    \n",
       "6 176562   USB-C Charging Cable       1                 11.95    \n",
       "  Order Date     Purchase Address                      \n",
       "1 04/19/19 08:46 917 1st St, Dallas, TX 75001          \n",
       "2 04/07/19 22:30 682 Chestnut St, Boston, MA 02215     \n",
       "3 04/12/19 14:38 669 Spruce St, Los Angeles, CA 90001  \n",
       "4 04/12/19 14:38 669 Spruce St, Los Angeles, CA 90001  \n",
       "5 04/30/19 09:27 333 8th St, Los Angeles, CA 90001     \n",
       "6 04/29/19 13:03 381 Wilson St, San Francisco, CA 94016"
      ]
     },
     "metadata": {},
     "output_type": "display_data"
    }
   ],
   "source": [
    "df = na.omit(df)\n",
    "head(df)"
   ]
  },
  {
   "cell_type": "code",
   "execution_count": 10,
   "id": "d6130b82",
   "metadata": {},
   "outputs": [
    {
     "name": "stdout",
     "output_type": "stream",
     "text": [
      "Rows: 185,950\n",
      "Columns: 6\n",
      "$ `Order ID`         \u001b[3m\u001b[90m<dbl>\u001b[39m\u001b[23m 176558, 176559, 176560, 176560, 176561, 176562, 176~\n",
      "$ Product            \u001b[3m\u001b[90m<chr>\u001b[39m\u001b[23m \"USB-C Charging Cable\", \"Bose SoundSport Headphones~\n",
      "$ `Quantity Ordered` \u001b[3m\u001b[90m<dbl>\u001b[39m\u001b[23m 2, 1, 1, 1, 1, 1, 1, 1, 1, 1, 1, 1, 1, 1, 1, 1, 1, ~\n",
      "$ `Price Each`       \u001b[3m\u001b[90m<dbl>\u001b[39m\u001b[23m 11.95, 99.99, 600.00, 11.99, 11.99, 11.95, 99.99, 1~\n",
      "$ `Order Date`       \u001b[3m\u001b[90m<chr>\u001b[39m\u001b[23m \"04/19/19 08:46\", \"04/07/19 22:30\", \"04/12/19 14:38~\n",
      "$ `Purchase Address` \u001b[3m\u001b[90m<chr>\u001b[39m\u001b[23m \"917 1st St, Dallas, TX 75001\", \"682 Chestnut St, B~\n"
     ]
    }
   ],
   "source": [
    "glimpse(df)\n"
   ]
  },
  {
   "cell_type": "code",
   "execution_count": 27,
   "id": "6634a46e",
   "metadata": {
    "scrolled": false
   },
   "outputs": [],
   "source": [
    "get_city <- function(city) {\n",
    "   extracted_city <- gsub(\".+, (.*), .+\", \"\\\\1\", city)\n",
    "return   (extracted_city)\n",
    "}\n",
    "\n",
    "\n",
    "get_state <- function(state) {\n",
    "  extracted_state_string  <- gsub(\".+,.+, (.*)\", \"\\\\1\", state)\n",
    "   extracted_state  <-  substr( extracted_state_string, 1, 2)\n",
    "    \n",
    "return(extracted_state)\n",
    "}\n",
    "df['City'] = lapply(df['Purchase Address'], function(x) paste(get_city(x),get_state(x)))\n"
   ]
  },
  {
   "cell_type": "code",
   "execution_count": 12,
   "id": "ffc2b560",
   "metadata": {},
   "outputs": [],
   "source": [
    "dateTime = lubridate::mdy_hm(\n",
    "  df$`Order Date` ,\n",
    "  quiet = FALSE,\n",
    "  tz = \"UTC\",\n",
    "  locale = Sys.getlocale(\"LC_TIME\"),\n",
    "  truncated = 0\n",
    ")\n",
    "\n"
   ]
  },
  {
   "cell_type": "code",
   "execution_count": 13,
   "id": "481dc199",
   "metadata": {},
   "outputs": [
    {
     "data": {
      "text/html": [
       "<table class=\"dataframe\">\n",
       "<caption>A tibble: 6 × 7</caption>\n",
       "<thead>\n",
       "\t<tr><th scope=col>Order ID</th><th scope=col>Product</th><th scope=col>Quantity Ordered</th><th scope=col>Price Each</th><th scope=col>Order Date</th><th scope=col>Purchase Address</th><th scope=col>Month</th></tr>\n",
       "\t<tr><th scope=col>&lt;dbl&gt;</th><th scope=col>&lt;chr&gt;</th><th scope=col>&lt;dbl&gt;</th><th scope=col>&lt;dbl&gt;</th><th scope=col>&lt;chr&gt;</th><th scope=col>&lt;chr&gt;</th><th scope=col>&lt;ord&gt;</th></tr>\n",
       "</thead>\n",
       "<tbody>\n",
       "\t<tr><td>176558</td><td>USB-C Charging Cable      </td><td>2</td><td> 11.95</td><td>04/19/19 08:46</td><td>917 1st St, Dallas, TX 75001          </td><td>April</td></tr>\n",
       "\t<tr><td>176559</td><td>Bose SoundSport Headphones</td><td>1</td><td> 99.99</td><td>04/07/19 22:30</td><td>682 Chestnut St, Boston, MA 02215     </td><td>April</td></tr>\n",
       "\t<tr><td>176560</td><td>Google Phone              </td><td>1</td><td>600.00</td><td>04/12/19 14:38</td><td>669 Spruce St, Los Angeles, CA 90001  </td><td>April</td></tr>\n",
       "\t<tr><td>176560</td><td>Wired Headphones          </td><td>1</td><td> 11.99</td><td>04/12/19 14:38</td><td>669 Spruce St, Los Angeles, CA 90001  </td><td>April</td></tr>\n",
       "\t<tr><td>176561</td><td>Wired Headphones          </td><td>1</td><td> 11.99</td><td>04/30/19 09:27</td><td>333 8th St, Los Angeles, CA 90001     </td><td>April</td></tr>\n",
       "\t<tr><td>176562</td><td>USB-C Charging Cable      </td><td>1</td><td> 11.95</td><td>04/29/19 13:03</td><td>381 Wilson St, San Francisco, CA 94016</td><td>April</td></tr>\n",
       "</tbody>\n",
       "</table>\n"
      ],
      "text/latex": [
       "A tibble: 6 × 7\n",
       "\\begin{tabular}{lllllll}\n",
       " Order ID & Product & Quantity Ordered & Price Each & Order Date & Purchase Address & Month\\\\\n",
       " <dbl> & <chr> & <dbl> & <dbl> & <chr> & <chr> & <ord>\\\\\n",
       "\\hline\n",
       "\t 176558 & USB-C Charging Cable       & 2 &  11.95 & 04/19/19 08:46 & 917 1st St, Dallas, TX 75001           & April\\\\\n",
       "\t 176559 & Bose SoundSport Headphones & 1 &  99.99 & 04/07/19 22:30 & 682 Chestnut St, Boston, MA 02215      & April\\\\\n",
       "\t 176560 & Google Phone               & 1 & 600.00 & 04/12/19 14:38 & 669 Spruce St, Los Angeles, CA 90001   & April\\\\\n",
       "\t 176560 & Wired Headphones           & 1 &  11.99 & 04/12/19 14:38 & 669 Spruce St, Los Angeles, CA 90001   & April\\\\\n",
       "\t 176561 & Wired Headphones           & 1 &  11.99 & 04/30/19 09:27 & 333 8th St, Los Angeles, CA 90001      & April\\\\\n",
       "\t 176562 & USB-C Charging Cable       & 1 &  11.95 & 04/29/19 13:03 & 381 Wilson St, San Francisco, CA 94016 & April\\\\\n",
       "\\end{tabular}\n"
      ],
      "text/markdown": [
       "\n",
       "A tibble: 6 × 7\n",
       "\n",
       "| Order ID &lt;dbl&gt; | Product &lt;chr&gt; | Quantity Ordered &lt;dbl&gt; | Price Each &lt;dbl&gt; | Order Date &lt;chr&gt; | Purchase Address &lt;chr&gt; | Month &lt;ord&gt; |\n",
       "|---|---|---|---|---|---|---|\n",
       "| 176558 | USB-C Charging Cable       | 2 |  11.95 | 04/19/19 08:46 | 917 1st St, Dallas, TX 75001           | April |\n",
       "| 176559 | Bose SoundSport Headphones | 1 |  99.99 | 04/07/19 22:30 | 682 Chestnut St, Boston, MA 02215      | April |\n",
       "| 176560 | Google Phone               | 1 | 600.00 | 04/12/19 14:38 | 669 Spruce St, Los Angeles, CA 90001   | April |\n",
       "| 176560 | Wired Headphones           | 1 |  11.99 | 04/12/19 14:38 | 669 Spruce St, Los Angeles, CA 90001   | April |\n",
       "| 176561 | Wired Headphones           | 1 |  11.99 | 04/30/19 09:27 | 333 8th St, Los Angeles, CA 90001      | April |\n",
       "| 176562 | USB-C Charging Cable       | 1 |  11.95 | 04/29/19 13:03 | 381 Wilson St, San Francisco, CA 94016 | April |\n",
       "\n"
      ],
      "text/plain": [
       "  Order ID Product                    Quantity Ordered Price Each\n",
       "1 176558   USB-C Charging Cable       2                 11.95    \n",
       "2 176559   Bose SoundSport Headphones 1                 99.99    \n",
       "3 176560   Google Phone               1                600.00    \n",
       "4 176560   Wired Headphones           1                 11.99    \n",
       "5 176561   Wired Headphones           1                 11.99    \n",
       "6 176562   USB-C Charging Cable       1                 11.95    \n",
       "  Order Date     Purchase Address                       Month\n",
       "1 04/19/19 08:46 917 1st St, Dallas, TX 75001           April\n",
       "2 04/07/19 22:30 682 Chestnut St, Boston, MA 02215      April\n",
       "3 04/12/19 14:38 669 Spruce St, Los Angeles, CA 90001   April\n",
       "4 04/12/19 14:38 669 Spruce St, Los Angeles, CA 90001   April\n",
       "5 04/30/19 09:27 333 8th St, Los Angeles, CA 90001      April\n",
       "6 04/29/19 13:03 381 Wilson St, San Francisco, CA 94016 April"
      ]
     },
     "metadata": {},
     "output_type": "display_data"
    }
   ],
   "source": [
    "df$`Month` = month(dateTime, label = TRUE,abbr = FALSE)\n",
    "head(df)"
   ]
  },
  {
   "cell_type": "markdown",
   "id": "797f038a",
   "metadata": {},
   "source": [
    "## Data Exploration\n"
   ]
  },
  {
   "cell_type": "markdown",
   "id": "5422e8d7",
   "metadata": {},
   "source": [
    "#### Question 1: What was the best month for sales? How much was earned that month?"
   ]
  },
  {
   "cell_type": "code",
   "execution_count": 14,
   "id": "c612003b",
   "metadata": {},
   "outputs": [
    {
     "data": {
      "text/html": [
       "<table class=\"dataframe\">\n",
       "<caption>A tibble: 6 × 8</caption>\n",
       "<thead>\n",
       "\t<tr><th scope=col>Order ID</th><th scope=col>Product</th><th scope=col>Quantity Ordered</th><th scope=col>Price Each</th><th scope=col>Order Date</th><th scope=col>Purchase Address</th><th scope=col>Month</th><th scope=col>Sales</th></tr>\n",
       "\t<tr><th scope=col>&lt;dbl&gt;</th><th scope=col>&lt;chr&gt;</th><th scope=col>&lt;dbl&gt;</th><th scope=col>&lt;dbl&gt;</th><th scope=col>&lt;chr&gt;</th><th scope=col>&lt;chr&gt;</th><th scope=col>&lt;ord&gt;</th><th scope=col>&lt;dbl&gt;</th></tr>\n",
       "</thead>\n",
       "<tbody>\n",
       "\t<tr><td>176558</td><td>USB-C Charging Cable      </td><td>2</td><td> 11.95</td><td>04/19/19 08:46</td><td>917 1st St, Dallas, TX 75001          </td><td>April</td><td> 23.90</td></tr>\n",
       "\t<tr><td>176559</td><td>Bose SoundSport Headphones</td><td>1</td><td> 99.99</td><td>04/07/19 22:30</td><td>682 Chestnut St, Boston, MA 02215     </td><td>April</td><td> 99.99</td></tr>\n",
       "\t<tr><td>176560</td><td>Google Phone              </td><td>1</td><td>600.00</td><td>04/12/19 14:38</td><td>669 Spruce St, Los Angeles, CA 90001  </td><td>April</td><td>600.00</td></tr>\n",
       "\t<tr><td>176560</td><td>Wired Headphones          </td><td>1</td><td> 11.99</td><td>04/12/19 14:38</td><td>669 Spruce St, Los Angeles, CA 90001  </td><td>April</td><td> 11.99</td></tr>\n",
       "\t<tr><td>176561</td><td>Wired Headphones          </td><td>1</td><td> 11.99</td><td>04/30/19 09:27</td><td>333 8th St, Los Angeles, CA 90001     </td><td>April</td><td> 11.99</td></tr>\n",
       "\t<tr><td>176562</td><td>USB-C Charging Cable      </td><td>1</td><td> 11.95</td><td>04/29/19 13:03</td><td>381 Wilson St, San Francisco, CA 94016</td><td>April</td><td> 11.95</td></tr>\n",
       "</tbody>\n",
       "</table>\n"
      ],
      "text/latex": [
       "A tibble: 6 × 8\n",
       "\\begin{tabular}{llllllll}\n",
       " Order ID & Product & Quantity Ordered & Price Each & Order Date & Purchase Address & Month & Sales\\\\\n",
       " <dbl> & <chr> & <dbl> & <dbl> & <chr> & <chr> & <ord> & <dbl>\\\\\n",
       "\\hline\n",
       "\t 176558 & USB-C Charging Cable       & 2 &  11.95 & 04/19/19 08:46 & 917 1st St, Dallas, TX 75001           & April &  23.90\\\\\n",
       "\t 176559 & Bose SoundSport Headphones & 1 &  99.99 & 04/07/19 22:30 & 682 Chestnut St, Boston, MA 02215      & April &  99.99\\\\\n",
       "\t 176560 & Google Phone               & 1 & 600.00 & 04/12/19 14:38 & 669 Spruce St, Los Angeles, CA 90001   & April & 600.00\\\\\n",
       "\t 176560 & Wired Headphones           & 1 &  11.99 & 04/12/19 14:38 & 669 Spruce St, Los Angeles, CA 90001   & April &  11.99\\\\\n",
       "\t 176561 & Wired Headphones           & 1 &  11.99 & 04/30/19 09:27 & 333 8th St, Los Angeles, CA 90001      & April &  11.99\\\\\n",
       "\t 176562 & USB-C Charging Cable       & 1 &  11.95 & 04/29/19 13:03 & 381 Wilson St, San Francisco, CA 94016 & April &  11.95\\\\\n",
       "\\end{tabular}\n"
      ],
      "text/markdown": [
       "\n",
       "A tibble: 6 × 8\n",
       "\n",
       "| Order ID &lt;dbl&gt; | Product &lt;chr&gt; | Quantity Ordered &lt;dbl&gt; | Price Each &lt;dbl&gt; | Order Date &lt;chr&gt; | Purchase Address &lt;chr&gt; | Month &lt;ord&gt; | Sales &lt;dbl&gt; |\n",
       "|---|---|---|---|---|---|---|---|\n",
       "| 176558 | USB-C Charging Cable       | 2 |  11.95 | 04/19/19 08:46 | 917 1st St, Dallas, TX 75001           | April |  23.90 |\n",
       "| 176559 | Bose SoundSport Headphones | 1 |  99.99 | 04/07/19 22:30 | 682 Chestnut St, Boston, MA 02215      | April |  99.99 |\n",
       "| 176560 | Google Phone               | 1 | 600.00 | 04/12/19 14:38 | 669 Spruce St, Los Angeles, CA 90001   | April | 600.00 |\n",
       "| 176560 | Wired Headphones           | 1 |  11.99 | 04/12/19 14:38 | 669 Spruce St, Los Angeles, CA 90001   | April |  11.99 |\n",
       "| 176561 | Wired Headphones           | 1 |  11.99 | 04/30/19 09:27 | 333 8th St, Los Angeles, CA 90001      | April |  11.99 |\n",
       "| 176562 | USB-C Charging Cable       | 1 |  11.95 | 04/29/19 13:03 | 381 Wilson St, San Francisco, CA 94016 | April |  11.95 |\n",
       "\n"
      ],
      "text/plain": [
       "  Order ID Product                    Quantity Ordered Price Each\n",
       "1 176558   USB-C Charging Cable       2                 11.95    \n",
       "2 176559   Bose SoundSport Headphones 1                 99.99    \n",
       "3 176560   Google Phone               1                600.00    \n",
       "4 176560   Wired Headphones           1                 11.99    \n",
       "5 176561   Wired Headphones           1                 11.99    \n",
       "6 176562   USB-C Charging Cable       1                 11.95    \n",
       "  Order Date     Purchase Address                       Month Sales \n",
       "1 04/19/19 08:46 917 1st St, Dallas, TX 75001           April  23.90\n",
       "2 04/07/19 22:30 682 Chestnut St, Boston, MA 02215      April  99.99\n",
       "3 04/12/19 14:38 669 Spruce St, Los Angeles, CA 90001   April 600.00\n",
       "4 04/12/19 14:38 669 Spruce St, Los Angeles, CA 90001   April  11.99\n",
       "5 04/30/19 09:27 333 8th St, Los Angeles, CA 90001      April  11.99\n",
       "6 04/29/19 13:03 381 Wilson St, San Francisco, CA 94016 April  11.95"
      ]
     },
     "metadata": {},
     "output_type": "display_data"
    },
    {
     "data": {
      "text/html": [
       "<table class=\"dataframe\">\n",
       "<caption>A tibble: 12 × 4</caption>\n",
       "<thead>\n",
       "\t<tr><th scope=col>Month</th><th scope=col>Quantity_Ordered</th><th scope=col>Price_Each</th><th scope=col>Sales</th></tr>\n",
       "\t<tr><th scope=col>&lt;ord&gt;</th><th scope=col>&lt;dbl&gt;</th><th scope=col>&lt;dbl&gt;</th><th scope=col>&lt;dbl&gt;</th></tr>\n",
       "</thead>\n",
       "<tbody>\n",
       "\t<tr><td>January  </td><td>209079</td><td>34289131</td><td>1822257</td></tr>\n",
       "\t<tr><td>February </td><td>209079</td><td>34289131</td><td>2202022</td></tr>\n",
       "\t<tr><td>March    </td><td>209079</td><td>34289131</td><td>2807100</td></tr>\n",
       "\t<tr><td>April    </td><td>209079</td><td>34289131</td><td>3390670</td></tr>\n",
       "\t<tr><td>May      </td><td>209079</td><td>34289131</td><td>3152607</td></tr>\n",
       "\t<tr><td>June     </td><td>209079</td><td>34289131</td><td>2577802</td></tr>\n",
       "\t<tr><td>July     </td><td>209079</td><td>34289131</td><td>2647776</td></tr>\n",
       "\t<tr><td>August   </td><td>209079</td><td>34289131</td><td>2244468</td></tr>\n",
       "\t<tr><td>September</td><td>209079</td><td>34289131</td><td>2097560</td></tr>\n",
       "\t<tr><td>October  </td><td>209079</td><td>34289131</td><td>3736727</td></tr>\n",
       "\t<tr><td>November </td><td>209079</td><td>34289131</td><td>3199603</td></tr>\n",
       "\t<tr><td>December </td><td>209079</td><td>34289131</td><td>4613443</td></tr>\n",
       "</tbody>\n",
       "</table>\n"
      ],
      "text/latex": [
       "A tibble: 12 × 4\n",
       "\\begin{tabular}{llll}\n",
       " Month & Quantity\\_Ordered & Price\\_Each & Sales\\\\\n",
       " <ord> & <dbl> & <dbl> & <dbl>\\\\\n",
       "\\hline\n",
       "\t January   & 209079 & 34289131 & 1822257\\\\\n",
       "\t February  & 209079 & 34289131 & 2202022\\\\\n",
       "\t March     & 209079 & 34289131 & 2807100\\\\\n",
       "\t April     & 209079 & 34289131 & 3390670\\\\\n",
       "\t May       & 209079 & 34289131 & 3152607\\\\\n",
       "\t June      & 209079 & 34289131 & 2577802\\\\\n",
       "\t July      & 209079 & 34289131 & 2647776\\\\\n",
       "\t August    & 209079 & 34289131 & 2244468\\\\\n",
       "\t September & 209079 & 34289131 & 2097560\\\\\n",
       "\t October   & 209079 & 34289131 & 3736727\\\\\n",
       "\t November  & 209079 & 34289131 & 3199603\\\\\n",
       "\t December  & 209079 & 34289131 & 4613443\\\\\n",
       "\\end{tabular}\n"
      ],
      "text/markdown": [
       "\n",
       "A tibble: 12 × 4\n",
       "\n",
       "| Month &lt;ord&gt; | Quantity_Ordered &lt;dbl&gt; | Price_Each &lt;dbl&gt; | Sales &lt;dbl&gt; |\n",
       "|---|---|---|---|\n",
       "| January   | 209079 | 34289131 | 1822257 |\n",
       "| February  | 209079 | 34289131 | 2202022 |\n",
       "| March     | 209079 | 34289131 | 2807100 |\n",
       "| April     | 209079 | 34289131 | 3390670 |\n",
       "| May       | 209079 | 34289131 | 3152607 |\n",
       "| June      | 209079 | 34289131 | 2577802 |\n",
       "| July      | 209079 | 34289131 | 2647776 |\n",
       "| August    | 209079 | 34289131 | 2244468 |\n",
       "| September | 209079 | 34289131 | 2097560 |\n",
       "| October   | 209079 | 34289131 | 3736727 |\n",
       "| November  | 209079 | 34289131 | 3199603 |\n",
       "| December  | 209079 | 34289131 | 4613443 |\n",
       "\n"
      ],
      "text/plain": [
       "   Month     Quantity_Ordered Price_Each Sales  \n",
       "1  January   209079           34289131   1822257\n",
       "2  February  209079           34289131   2202022\n",
       "3  March     209079           34289131   2807100\n",
       "4  April     209079           34289131   3390670\n",
       "5  May       209079           34289131   3152607\n",
       "6  June      209079           34289131   2577802\n",
       "7  July      209079           34289131   2647776\n",
       "8  August    209079           34289131   2244468\n",
       "9  September 209079           34289131   2097560\n",
       "10 October   209079           34289131   3736727\n",
       "11 November  209079           34289131   3199603\n",
       "12 December  209079           34289131   4613443"
      ]
     },
     "metadata": {},
     "output_type": "display_data"
    }
   ],
   "source": [
    "df$`Sales` = df$`Quantity Ordered` * df$`Price Each`\n",
    "head(df)\n",
    "best_month_sales <- df %>% group_by(df['Month']) %>% summarize(Quantity_Ordered = sum(df$`Quantity Ordered`) , Price_Each = sum(df$`Price Each`),Sales = sum(Sales))\n",
    "best_month_sales"
   ]
  },
  {
   "cell_type": "code",
   "execution_count": 15,
   "id": "ec68f574",
   "metadata": {},
   "outputs": [
    {
     "data": {
      "image/png": "[encoded data removed]",
      "text/plain": [
       "plot without title"
      ]
     },
     "metadata": {
      "image/png": {
       "height": 420,
       "width": 420
      }
     },
     "output_type": "display_data"
    }
   ],
   "source": [
    "ggplot(best_month_sales,aes(x=Month, y=as.factor(Sales))) +\n",
    "  geom_bar(stat='identity',color=\"blue\" ) + theme(axis.text.x = element_text(angle = 90, hjust = 1))  +\n",
    "  xlab(\"Month\") + ylab(\"Sales in dollars ($)\")"
   ]
  },
  {
   "cell_type": "markdown",
   "id": "6560d7c8",
   "metadata": {},
   "source": [
    "#### Question 2: What city sold the most product?"
   ]
  },
  {
   "cell_type": "code",
   "execution_count": 30,
   "id": "388a6fa8",
   "metadata": {},
   "outputs": [
    {
     "data": {
      "text/html": [
       "<table class=\"dataframe\">\n",
       "<caption>A tibble: 10 × 4</caption>\n",
       "<thead>\n",
       "\t<tr><th scope=col>City</th><th scope=col>Quantity_Ordered</th><th scope=col>Price_Each</th><th scope=col>Sales</th></tr>\n",
       "\t<tr><th scope=col>&lt;chr&gt;</th><th scope=col>&lt;dbl&gt;</th><th scope=col>&lt;dbl&gt;</th><th scope=col>&lt;dbl&gt;</th></tr>\n",
       "</thead>\n",
       "<tbody>\n",
       "\t<tr><td>Atlanta GA      </td><td>209079</td><td>34289131</td><td>2795498.6</td></tr>\n",
       "\t<tr><td>Austin TX       </td><td>209079</td><td>34289131</td><td>1819581.8</td></tr>\n",
       "\t<tr><td>Boston MA       </td><td>209079</td><td>34289131</td><td>3661642.0</td></tr>\n",
       "\t<tr><td>Dallas TX       </td><td>209079</td><td>34289131</td><td>2767975.4</td></tr>\n",
       "\t<tr><td>Los Angeles CA  </td><td>209079</td><td>34289131</td><td>5452570.8</td></tr>\n",
       "\t<tr><td>New York City NY</td><td>209079</td><td>34289131</td><td>4664317.4</td></tr>\n",
       "\t<tr><td>Portland ME     </td><td>209079</td><td>34289131</td><td> 449758.3</td></tr>\n",
       "\t<tr><td>Portland OR     </td><td>209079</td><td>34289131</td><td>1870732.3</td></tr>\n",
       "\t<tr><td>San Francisco CA</td><td>209079</td><td>34289131</td><td>8262203.9</td></tr>\n",
       "\t<tr><td>Seattle WA      </td><td>209079</td><td>34289131</td><td>2747755.5</td></tr>\n",
       "</tbody>\n",
       "</table>\n"
      ],
      "text/latex": [
       "A tibble: 10 × 4\n",
       "\\begin{tabular}{llll}\n",
       " City & Quantity\\_Ordered & Price\\_Each & Sales\\\\\n",
       " <chr> & <dbl> & <dbl> & <dbl>\\\\\n",
       "\\hline\n",
       "\t Atlanta GA       & 209079 & 34289131 & 2795498.6\\\\\n",
       "\t Austin TX        & 209079 & 34289131 & 1819581.8\\\\\n",
       "\t Boston MA        & 209079 & 34289131 & 3661642.0\\\\\n",
       "\t Dallas TX        & 209079 & 34289131 & 2767975.4\\\\\n",
       "\t Los Angeles CA   & 209079 & 34289131 & 5452570.8\\\\\n",
       "\t New York City NY & 209079 & 34289131 & 4664317.4\\\\\n",
       "\t Portland ME      & 209079 & 34289131 &  449758.3\\\\\n",
       "\t Portland OR      & 209079 & 34289131 & 1870732.3\\\\\n",
       "\t San Francisco CA & 209079 & 34289131 & 8262203.9\\\\\n",
       "\t Seattle WA       & 209079 & 34289131 & 2747755.5\\\\\n",
       "\\end{tabular}\n"
      ],
      "text/markdown": [
       "\n",
       "A tibble: 10 × 4\n",
       "\n",
       "| City &lt;chr&gt; | Quantity_Ordered &lt;dbl&gt; | Price_Each &lt;dbl&gt; | Sales &lt;dbl&gt; |\n",
       "|---|---|---|---|\n",
       "| Atlanta GA       | 209079 | 34289131 | 2795498.6 |\n",
       "| Austin TX        | 209079 | 34289131 | 1819581.8 |\n",
       "| Boston MA        | 209079 | 34289131 | 3661642.0 |\n",
       "| Dallas TX        | 209079 | 34289131 | 2767975.4 |\n",
       "| Los Angeles CA   | 209079 | 34289131 | 5452570.8 |\n",
       "| New York City NY | 209079 | 34289131 | 4664317.4 |\n",
       "| Portland ME      | 209079 | 34289131 |  449758.3 |\n",
       "| Portland OR      | 209079 | 34289131 | 1870732.3 |\n",
       "| San Francisco CA | 209079 | 34289131 | 8262203.9 |\n",
       "| Seattle WA       | 209079 | 34289131 | 2747755.5 |\n",
       "\n"
      ],
      "text/plain": [
       "   City             Quantity_Ordered Price_Each Sales    \n",
       "1  Atlanta GA       209079           34289131   2795498.6\n",
       "2  Austin TX        209079           34289131   1819581.8\n",
       "3  Boston MA        209079           34289131   3661642.0\n",
       "4  Dallas TX        209079           34289131   2767975.4\n",
       "5  Los Angeles CA   209079           34289131   5452570.8\n",
       "6  New York City NY 209079           34289131   4664317.4\n",
       "7  Portland ME      209079           34289131    449758.3\n",
       "8  Portland OR      209079           34289131   1870732.3\n",
       "9  San Francisco CA 209079           34289131   8262203.9\n",
       "10 Seattle WA       209079           34289131   2747755.5"
      ]
     },
     "metadata": {},
     "output_type": "display_data"
    }
   ],
   "source": [
    "best_month_sales_by_city <- df %>% group_by(df['City']) %>% summarize(Quantity_Ordered = sum(df$`Quantity Ordered`) , Price_Each = sum(df$`Price Each`),Sales = sum(Sales))\n",
    "best_month_sales_by_city"
   ]
  },
  {
   "cell_type": "code",
   "execution_count": 29,
   "id": "76a68aba",
   "metadata": {},
   "outputs": [
    {
     "data": {
      "image/png": "[encoded data removed]",
      "text/plain": [
       "plot without title"
      ]
     },
     "metadata": {
      "image/png": {
       "height": 420,
       "width": 420
      }
     },
     "output_type": "display_data"
    }
   ],
   "source": [
    "ggplot(best_month_sales_by_city,aes(x=City, y=as.factor(Sales))) +\n",
    "  geom_bar(stat='identity',color=\"blue\" ) + theme(axis.text.x = element_text(angle = 90, hjust = 1))  +\n",
    "  xlab(\"City\") + ylab(\"Sales in dollars ($)\")"
   ]
  },
  {
   "cell_type": "markdown",
   "id": "c9532dc4",
   "metadata": {},
   "source": [
    "#### Question 3: What time should we display advertisements to maximize likelihood of customer's buying product?\n"
   ]
  },
  {
   "cell_type": "code",
   "execution_count": null,
   "id": "0289934f",
   "metadata": {},
   "outputs": [],
   "source": [
    "df$`Time` = hms(df$`Order Date` ,\n",
    "  quiet = FALSE,\n",
    "  tz = \"UTC\",\n",
    "  locale = Sys.getlocale(\"LC_TIME\"),\n",
    "  truncated = 0)\n",
    "df$`Time`"
   ]
  },
  {
   "cell_type": "code",
   "execution_count": null,
   "id": "f428b667",
   "metadata": {},
   "outputs": [],
   "source": []
  }
 ],
 "metadata": {
  "kernelspec": {
   "display_name": "R",
   "language": "R",
   "name": "ir"
  },
  "language_info": {
   "codemirror_mode": "r",
   "file_extension": ".r",
   "mimetype": "text/x-r-source",
   "name": "R",
   "pygments_lexer": "r",
   "version": "4.1.1"
  }
 },
 "nbformat": 4,
 "nbformat_minor": 5
}
